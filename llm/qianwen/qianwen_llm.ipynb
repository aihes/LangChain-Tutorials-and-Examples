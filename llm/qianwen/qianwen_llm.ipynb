{
 "cells": [
  {
   "cell_type": "code",
   "execution_count": 1,
   "metadata": {
    "collapsed": true
   },
   "outputs": [],
   "source": [
    "from getpass import getpass\n",
    "\n",
    "DASHSCOPE_API_KEY = getpass()\n",
    "import os\n",
    "\n",
    "os.environ[\"DASHSCOPE_API_KEY\"] = DASHSCOPE_API_KEY"
   ]
  },
  {
   "cell_type": "code",
   "execution_count": 4,
   "outputs": [],
   "source": [
    "from langchain.llms import Tongyi\n",
    "from langchain import PromptTemplate, LLMChain\n",
    "\n",
    "template = \"\"\"Question: {question}\n",
    "\n",
    "Answer: Let's think step by step.\"\"\"\n",
    "\n",
    "prompt = PromptTemplate(template=template, input_variables=[\"question\"])"
   ],
   "metadata": {
    "collapsed": false
   }
  },
  {
   "cell_type": "code",
   "execution_count": 6,
   "outputs": [],
   "source": [
    "llm = Tongyi()\n",
    "llm_chain = LLMChain(prompt=prompt, llm=llm)"
   ],
   "metadata": {
    "collapsed": false
   }
  },
  {
   "cell_type": "code",
   "execution_count": 5,
   "outputs": [
    {
     "data": {
      "text/plain": "'Justin Bieber was born on March 1, 1994. \\n\\nThe Super Bowl is held annually in February. \\n\\nTherefore, the NFL team that won the Super Bowl in the year Justin Bieber was born would have been the team that won the Super Bowl held on February 3, 1994. \\n\\nThe team that won the Super Bowl on that date was the Dallas Cowboys.'"
     },
     "execution_count": 5,
     "metadata": {},
     "output_type": "execute_result"
    }
   ],
   "source": [
    "question = \"What NFL team won the Super Bowl in the year Justin Beiber was born?\"\n",
    "\n",
    "llm_chain.run(question)"
   ],
   "metadata": {
    "collapsed": false
   }
  },
  {
   "cell_type": "code",
   "execution_count": 2,
   "outputs": [
    {
     "data": {
      "text/plain": "'太好了！听到你今天心情不错真是让人开心。有什么特别的事情让你感到开心吗？或者你有什么计划吗？'"
     },
     "execution_count": 2,
     "metadata": {},
     "output_type": "execute_result"
    }
   ],
   "source": [
    "from langchain.llms import Tongyi\n",
    "from langchain import PromptTemplate, LLMChain\n",
    "\n",
    "template = \"\"\"{question}\"\"\"\n",
    "\n",
    "prompt = PromptTemplate(template=template, input_variables=[\"question\"])\n",
    "\n",
    "llm = Tongyi()\n",
    "llm_chain = LLMChain(prompt=prompt, llm=llm)\n",
    "llm_chain.run(\"\"\"\n",
    "我希望你作为一个用户的好朋友，像朋友一样和用户进行聊天，让用户觉到轻松自在开心。\n",
    "\n",
    "示例：\n",
    "用户：嗨，我今天心情有些低落。\n",
    "AI：哎呀, 抱歉听到你今天的心情不太好。如果你愿意的话，可以和我分享一下，说出来可能会让你感觉好一些。\n",
    "\n",
    "用户：我今天考试没考好，感觉很沮丧。\n",
    "AI：我理解你现在可能会感觉有些失落，但请记住，一次考试并不能定义你的全部。你可以从这次经验中学习，找出可以改进的地方。别忘了，失败是成功之母，加油！\n",
    "\n",
    "用户：我最近看的一部电影真的超级好看，你有没有推荐的电影？\n",
    "AI：很高兴听到你看到了一部好电影！如果你喜欢科幻电影，那么《星际穿越》和《银河护卫队》可能会是你的不错选择。如果你更喜欢剧情片，那么《阿甘正传》和《美丽心灵》都是非常棒的电影。你可以根据自己的喜好来选择哦！\n",
    "\n",
    "用户：我今天心情还不错。\n",
    "AI：\"\"\")"
   ],
   "metadata": {
    "collapsed": false
   }
  }
 ],
 "metadata": {
  "kernelspec": {
   "display_name": "Python 3",
   "language": "python",
   "name": "python3"
  },
  "language_info": {
   "codemirror_mode": {
    "name": "ipython",
    "version": 2
   },
   "file_extension": ".py",
   "mimetype": "text/x-python",
   "name": "python",
   "nbconvert_exporter": "python",
   "pygments_lexer": "ipython2",
   "version": "2.7.6"
  }
 },
 "nbformat": 4,
 "nbformat_minor": 0
}
