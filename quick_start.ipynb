{
 "cells": [
  {
   "cell_type": "markdown",
   "metadata": {},
   "source": [
    "## LLM、Prompt"
   ]
  },
  {
   "cell_type": "code",
   "execution_count": 1,
   "metadata": {},
   "outputs": [
    {
     "data": {
      "text/plain": [
       "AIMessage(content='我喜欢编程。', additional_kwargs={}, example=False)"
      ]
     },
     "execution_count": 1,
     "metadata": {},
     "output_type": "execute_result"
    }
   ],
   "source": [
    "from langchain.chat_models import ChatOpenAI\n",
    "from langchain.schema import (\n",
    "    AIMessage,\n",
    "    HumanMessage,\n",
    "    SystemMessage\n",
    ")\n",
    "\n",
    "chat = ChatOpenAI(temperature=0)\n",
    "chat.predict_messages([HumanMessage(content=\"把下面的语言翻译为中文：I love programming.\")])\n"
   ]
  },
  {
   "cell_type": "markdown",
   "metadata": {},
   "source": [
    "## LLM、PromptTemplate、Chain"
   ]
  },
  {
   "cell_type": "code",
   "execution_count": 2,
   "metadata": {},
   "outputs": [
    {
     "data": {
      "text/plain": [
       "'1. 脚云袜子 (FootCloud Socks)\\n2. 绵绵袜子 (SoftCotton Socks)\\n3. 舒适足袜 (ComfortFit Socks)\\n4. 时尚足袜 (FashionFoot Socks)\\n5. 柔软足袜 (GentleTouch Socks)\\n6. 足底护理袜 (SoleCare Socks)\\n7. 活力足袜 (VitalityFoot Socks)\\n8. 温暖足袜 (WarmFeet Socks)\\n9. 亲肤足袜 (SkinFriendly Socks)\\n10. 美丽足袜 (BeautifulFeet Socks)'"
      ]
     },
     "execution_count": 2,
     "metadata": {},
     "output_type": "execute_result"
    }
   ],
   "source": [
    "from langchain import PromptTemplate\n",
    "from langchain.chains import LLMChain\n",
    "\n",
    "prompt = PromptTemplate.from_template(\"帮我为以下产品想一个公司的名称 {product}?\")\n",
    "chain = LLMChain(llm=chat, prompt=prompt)\n",
    "chain.run(\"袜子\")"
   ]
  },
  {
   "cell_type": "markdown",
   "metadata": {},
   "source": [
    "## Memory,Chain"
   ]
  },
  {
   "cell_type": "code",
   "execution_count": 13,
   "metadata": {},
   "outputs": [],
   "source": [
    "from langchain.memory import ConversationBufferMemory\n",
    "from langchain import OpenAI, LLMChain, PromptTemplate\n"
   ]
  },
  {
   "cell_type": "code",
   "execution_count": 14,
   "metadata": {},
   "outputs": [],
   "source": [
    "template = \"\"\"你是一个和人类聊天的机器人.\n",
    "\n",
    "{chat_history}\n",
    "人类: {human_input}\n",
    "机器人:\"\"\"\n",
    "\n",
    "prompt = PromptTemplate(\n",
    "    input_variables=[\"chat_history\", \"human_input\"], template=template\n",
    ")\n",
    "memory = ConversationBufferMemory(memory_key=\"chat_history\")\n",
    "llm_chain = LLMChain(\n",
    "    llm=OpenAI(),\n",
    "    prompt=prompt,\n",
    "    verbose=True,\n",
    "    memory=memory,\n",
    ")"
   ]
  },
  {
   "cell_type": "code",
   "execution_count": 15,
   "metadata": {},
   "outputs": [
    {
     "name": "stdout",
     "output_type": "stream",
     "text": [
      "\n",
      "\n",
      "\u001B[1m> Entering new LLMChain chain...\u001B[0m\n",
      "Prompt after formatting:\n",
      "\u001B[32;1m\u001B[1;3m你是一个和人类聊天的机器人.\n",
      "\n",
      "\n",
      "人类: 你好，我的名字叫致问\n",
      "机器人:\u001B[0m\n",
      "\n",
      "\u001B[1m> Finished chain.\u001B[0m\n"
     ]
    },
    {
     "data": {
      "text/plain": [
       "' 你好，致问，很高兴认识你！有什么可以帮助你的吗？'"
      ]
     },
     "execution_count": 15,
     "metadata": {},
     "output_type": "execute_result"
    }
   ],
   "source": [
    "llm_chain.predict(human_input=\"你好，我的名字叫致问\")"
   ]
  },
  {
   "cell_type": "code",
   "execution_count": 16,
   "metadata": {},
   "outputs": [
    {
     "data": {
      "text/plain": [
       "'Human: 你好，我的名字叫致问\\nAI:  你好，致问，很高兴认识你！有什么可以帮助你的吗？'"
      ]
     },
     "execution_count": 16,
     "metadata": {},
     "output_type": "execute_result"
    }
   ],
   "source": [
    "memory.buffer"
   ]
  },
  {
   "cell_type": "code",
   "execution_count": 17,
   "metadata": {},
   "outputs": [
    {
     "name": "stdout",
     "output_type": "stream",
     "text": [
      "\n",
      "\n",
      "\u001B[1m> Entering new LLMChain chain...\u001B[0m\n",
      "Prompt after formatting:\n",
      "\u001B[32;1m\u001B[1;3m你是一个和人类聊天的机器人.\n",
      "\n",
      "Human: 你好，我的名字叫致问\n",
      "AI:  你好，致问，很高兴认识你！有什么可以帮助你的吗？\n",
      "人类: 我的名字叫什么？\n",
      "机器人:\u001B[0m\n",
      "\n",
      "\u001B[1m> Finished chain.\u001B[0m\n"
     ]
    },
    {
     "data": {
      "text/plain": [
       "' 哦，你是叫致问吗？'"
      ]
     },
     "execution_count": 17,
     "metadata": {},
     "output_type": "execute_result"
    }
   ],
   "source": [
    "llm_chain.predict(human_input=\"我的名字叫什么？\")"
   ]
  },
  {
   "cell_type": "markdown",
   "metadata": {},
   "source": [
    "## Agent、LLM、Prompt、Memory"
   ]
  },
  {
   "cell_type": "code",
   "execution_count": 5,
   "metadata": {},
   "outputs": [],
   "source": [
    "from langchain.memory import ConversationBufferMemory\n",
    "from langchain.agents import load_tools, AgentExecutor, ZeroShotAgent\n",
    "from langchain.agents import initialize_agent\n",
    "from langchain.agents import AgentType\n",
    "from langchain.chat_models import ChatOpenAI\n",
    "from langchain.llms import OpenAI\n",
    "\n",
    "\n",
    "\n",
    "## 1、定义工具\n",
    "tools = load_tools([\"serpapi\"])\n",
    "\n",
    "prefix = \"\"\"与人进行对话，尽可能最好地回答以下问题。你可以使用以下工具：\"\"\"\n",
    "suffix = \"\"\"开始！\n",
    "\n",
    "{chat_history}\n",
    "问题：{input}\n",
    "{agent_scratchpad}\"\"\"\n",
    "\n",
    "## 2、定义提示词\n",
    "prompt = ZeroShotAgent.create_prompt(\n",
    "    tools,\n",
    "    prefix=prefix,\n",
    "    suffix=suffix,\n",
    "    input_variables=[\"input\", \"chat_history\", \"agent_scratchpad\"],\n",
    ")\n",
    "\n",
    "## 定义链和Agent\n",
    "memory = ConversationBufferMemory(memory_key=\"chat_history\")\n",
    "llm_chain = LLMChain(llm=OpenAI(temperature=0), prompt=prompt)\n",
    "agent = ZeroShotAgent(llm_chain=llm_chain, tools=tools, verbose=True)\n",
    "agent_chain = AgentExecutor.from_agent_and_tools(\n",
    "    agent=agent, tools=tools, verbose=True, memory=memory\n",
    ")\n"
   ]
  },
  {
   "cell_type": "code",
   "execution_count": 7,
   "metadata": {},
   "outputs": [
    {
     "name": "stdout",
     "output_type": "stream",
     "text": [
      "\n",
      "\n",
      "\u001B[1m> Entering new AgentExecutor chain...\u001B[0m\n",
      "\u001B[32;1m\u001B[1;3mThought: 我需要查询一下杭州的天气。\n",
      "Action: Search\n",
      "Action Input: 杭州天气\u001B[0m\n",
      "Observation: \u001B[36;1m\u001B[1;3m20日（今天）. 多云. 26℃. <3级 · 21日（明天）. 雷阵雨. 33℃/25℃. 4-5级转<3级 · 22日（后天）. 雷阵雨. 34℃/26℃. 5-6级转3-4级 · 23日（周日）. 雷阵雨转多云. 33℃/26℃. 4-5 ...\u001B[0m\n",
      "Thought:\u001B[32;1m\u001B[1;3m 我现在知道最终的答案了。\n",
      "Final Answer: 今天杭州的天气是多云，温度为26℃，风力为3级。\u001B[0m\n",
      "\n",
      "\u001B[1m> Finished chain.\u001B[0m\n"
     ]
    },
    {
     "data": {
      "text/plain": [
       "'今天杭州的天气是多云，温度为26℃，风力为3级。'"
      ]
     },
     "execution_count": 7,
     "metadata": {},
     "output_type": "execute_result"
    }
   ],
   "source": [
    "agent_chain.run(input=\"今天杭州的天气怎么样?\")"
   ]
  },
  {
   "cell_type": "code",
   "execution_count": 9,
   "metadata": {},
   "outputs": [
    {
     "data": {
      "text/plain": [
       "'Human: 今天杭州的天气怎么样?\\nAI: 今天杭州的天气是多云，温度为26℃，风力为3级。'"
      ]
     },
     "execution_count": 9,
     "metadata": {},
     "output_type": "execute_result"
    }
   ],
   "source": [
    "memory.buffer"
   ]
  },
  {
   "cell_type": "code",
   "execution_count": 10,
   "metadata": {},
   "outputs": [
    {
     "name": "stdout",
     "output_type": "stream",
     "text": [
      "\n",
      "\n",
      "\u001B[1m> Entering new AgentExecutor chain...\u001B[0m\n",
      "\u001B[32;1m\u001B[1;3mThought: 我需要搜索LangChain的信息\n",
      "Action: Search\n",
      "Action Input: LangChain\u001B[0m\n",
      "Observation: \u001B[36;1m\u001B[1;3mLangChain is a framework designed to simplify the creation of applications using large language models. As a language model integration framework, LangChain's use-cases largely overlap with those of language models in general, including document analysis and summarization, chatbots, and code analysis.\u001B[0m\n",
      "Thought:\u001B[32;1m\u001B[1;3m 我现在了解了LangChain的开发背景\n",
      "Final Answer: LangChain是一个旨在简化使用大型语言模型创建应用程序的框架。作为一个语言模型集成框架，LangChain的用例与一般的语言模型大部分重叠，包括文档分析和摘要、聊天机器人和代码分析。\u001B[0m\n",
      "\n",
      "\u001B[1m> Finished chain.\u001B[0m\n"
     ]
    },
    {
     "data": {
      "text/plain": [
       "'LangChain是一个旨在简化使用大型语言模型创建应用程序的框架。作为一个语言模型集成框架，LangChain的用例与一般的语言模型大部分重叠，包括文档分析和摘要、聊天机器人和代码分析。'"
      ]
     },
     "execution_count": 10,
     "metadata": {},
     "output_type": "execute_result"
    }
   ],
   "source": [
    "agent_chain.run(input=\"能解释下LangChain是什么吗，开发时间和开发背景?\")"
   ]
  },
  {
   "cell_type": "code",
   "execution_count": 11,
   "metadata": {},
   "outputs": [
    {
     "data": {
      "text/plain": [
       "'Human: 今天杭州的天气怎么样?\\nAI: 今天杭州的天气是多云，温度为26℃，风力为3级。\\nHuman: 能解释下LangChain是什么吗，开发时间和开发背景?\\nAI: LangChain是一个旨在简化使用大型语言模型创建应用程序的框架。作为一个语言模型集成框架，LangChain的用例与一般的语言模型大部分重叠，包括文档分析和摘要、聊天机器人和代码分析。'"
      ]
     },
     "execution_count": 11,
     "metadata": {},
     "output_type": "execute_result"
    }
   ],
   "source": [
    "memory.buffer"
   ]
  }
 ],
 "metadata": {
  "kernelspec": {
   "display_name": "Python 3 (ipykernel)",
   "language": "python",
   "name": "python3"
  },
  "language_info": {
   "codemirror_mode": {
    "name": "ipython",
    "version": 3
   },
   "file_extension": ".py",
   "mimetype": "text/x-python",
   "name": "python",
   "nbconvert_exporter": "python",
   "pygments_lexer": "ipython3",
   "version": "3.9.16"
  }
 },
 "nbformat": 4,
 "nbformat_minor": 1
}
