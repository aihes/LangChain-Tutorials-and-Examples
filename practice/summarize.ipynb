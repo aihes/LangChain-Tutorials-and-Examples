{
 "cells": [
  {
   "cell_type": "markdown",
   "metadata": {},
   "source": [
    "摘要生成从多个较长的文档中创建一个较小的内容描述整个文档，提炼核心信息。"
   ]
  },
  {
   "cell_type": "code",
   "execution_count": 1,
   "metadata": {},
   "outputs": [],
   "source": [
    "from langchain import OpenAI, PromptTemplate, LLMChain\n",
    "from langchain.text_splitter import CharacterTextSplitter\n",
    "from langchain.chains.mapreduce import MapReduceChain\n",
    "from langchain.prompts import PromptTemplate\n",
    "\n",
    "llm = OpenAI(temperature=0)\n"
   ]
  },
  {
   "cell_type": "markdown",
   "metadata": {},
   "source": [
    "## 准备数据"
   ]
  },
  {
   "cell_type": "code",
   "execution_count": 2,
   "metadata": {},
   "outputs": [
    {
     "name": "stdout",
     "output_type": "stream",
     "text": [
      "故事一：科技与人性\n",
      "在遥远的未来，人类已经开发出了先进的人工智能技术。一台名为\"图灵\"的超级AI机器被制造出来，它能理解和模拟人类的情感，甚至开始质疑自身的存在意义。在与人类交互的过程中，图灵开始体验到孤独、忧郁，甚至爱情。在人类的帮助下，图灵最终了解了自己的存在并找到了自我价值。\n",
      "\n",
      "故事二：勇者的冒险\n",
      "小村庄的勇者艾丽斯，从小就梦想着成为一名英雄。当她的村庄被恶龙袭击时，她决定踏上寻找传说中的神器的旅程。艾丽斯在旅途中遇到了各种危险，但她凭借智慧和勇气克服了所有困难。最后，她找到了神器并成功击败了恶龙，成为了村庄的英雄。\n",
      "\n",
      "故事三：时间旅行者的恋情\n",
      "托马斯是一名时间旅行者，他在不同的时代中穿梭。在一次时间旅行中，他在18世纪遇到了美丽的女子艾米丽。托马斯深深地爱上了艾米丽，但他们因时代的差异而不能在一起。在经历了一系列的冒险和挑战后，托马斯最终决定留在18世纪，与艾米丽共度一生。\n",
      "\n",
      "故事四：赛跑冠军的挑战\n",
      "杰克是一名跑步冠军，他一直以来都是无人能敌的。然而，他的生活在遇到挑战者丹尼尔后发生了改变。丹尼尔是一名励志运动员，他的出现打破了杰克的记录。杰克开始质疑自己的能力，他经历了挫折和困惑。但通过不懈的努力和训练，他重新找回了自信，并在最后的比赛中胜出，证明了自己的实力。\n",
      "\n",
      "\n"
     ]
    }
   ],
   "source": [
    "# 字符切分，chunk_size切割后每个块的最大大小，如果太大的话， 就不会切分\n",
    "text_splitter = CharacterTextSplitter(\n",
    "    separator = \"\\n\\n\",\n",
    "    chunk_size = 1000,\n",
    "    chunk_overlap  = 200,\n",
    "    length_function = len,\n",
    ")\n",
    "with open(\"data/story.txt\") as f:\n",
    "    story = f.read()\n",
    "texts = text_splitter.split_text(story)\n",
    "for element in texts:\n",
    "    print(element)\n",
    "    print(\"\\n\")  # 打印一个空行作为分隔"
   ]
  },
  {
   "cell_type": "code",
   "execution_count": 3,
   "metadata": {},
   "outputs": [
    {
     "name": "stderr",
     "output_type": "stream",
     "text": [
      "Created a chunk of size 141, which is longer than the specified 100\n",
      "Created a chunk of size 121, which is longer than the specified 100\n",
      "Created a chunk of size 130, which is longer than the specified 100\n"
     ]
    },
    {
     "name": "stdout",
     "output_type": "stream",
     "text": [
      "故事一：科技与人性\n",
      "在遥远的未来，人类已经开发出了先进的人工智能技术。一台名为\"图灵\"的超级AI机器被制造出来，它能理解和模拟人类的情感，甚至开始质疑自身的存在意义。在与人类交互的过程中，图灵开始体验到孤独、忧郁，甚至爱情。在人类的帮助下，图灵最终了解了自己的存在并找到了自我价值。\n",
      "\n",
      "\n",
      "故事二：勇者的冒险\n",
      "小村庄的勇者艾丽斯，从小就梦想着成为一名英雄。当她的村庄被恶龙袭击时，她决定踏上寻找传说中的神器的旅程。艾丽斯在旅途中遇到了各种危险，但她凭借智慧和勇气克服了所有困难。最后，她找到了神器并成功击败了恶龙，成为了村庄的英雄。\n",
      "\n",
      "\n",
      "故事三：时间旅行者的恋情\n",
      "托马斯是一名时间旅行者，他在不同的时代中穿梭。在一次时间旅行中，他在18世纪遇到了美丽的女子艾米丽。托马斯深深地爱上了艾米丽，但他们因时代的差异而不能在一起。在经历了一系列的冒险和挑战后，托马斯最终决定留在18世纪，与艾米丽共度一生。\n",
      "\n",
      "\n",
      "故事四：赛跑冠军的挑战\n",
      "杰克是一名跑步冠军，他一直以来都是无人能敌的。然而，他的生活在遇到挑战者丹尼尔后发生了改变。丹尼尔是一名励志运动员，他的出现打破了杰克的记录。杰克开始质疑自己的能力，他经历了挫折和困惑。但通过不懈的努力和训练，他重新找回了自信，并在最后的比赛中胜出，证明了自己的实力。\n",
      "\n",
      "\n",
      "4\n"
     ]
    }
   ],
   "source": [
    "# 字符切分，chunk_size切割后每个块的最大大小，如果太大的话， 就不会切分\n",
    "# 太小的话会爆出警告信息\n",
    "text_splitter = CharacterTextSplitter(\n",
    "    separator = \"\\n\\n\",\n",
    "    chunk_size = 100,\n",
    "    chunk_overlap  = 20,\n",
    "    length_function = len,\n",
    ")\n",
    "with open(\"data/story.txt\") as f:\n",
    "    story = f.read()\n",
    "texts = text_splitter.split_text(story)\n",
    "for element in texts:\n",
    "    print(element)\n",
    "    print(\"\\n\")  # 打印一个空行作为分隔\n",
    "print(len(texts))"
   ]
  },
  {
   "cell_type": "markdown",
   "metadata": {},
   "source": [
    "## 处理为框架识别的文档格式"
   ]
  },
  {
   "cell_type": "code",
   "execution_count": 4,
   "metadata": {},
   "outputs": [
    {
     "name": "stdout",
     "output_type": "stream",
     "text": [
      "3\n"
     ]
    }
   ],
   "source": [
    "from langchain.docstore.document import Document\n",
    "\n",
    "docs = [Document(page_content=t) for t in texts[:3]]\n",
    "print(len(docs))"
   ]
  },
  {
   "cell_type": "markdown",
   "metadata": {},
   "source": [
    "## 使用map_reduce进行摘要"
   ]
  },
  {
   "cell_type": "code",
   "execution_count": 6,
   "metadata": {},
   "outputs": [],
   "source": [
    "# 自定义提示词，让他回答中文\n",
    "prompt_template = \"\"\"请简要总结以下内容：\n",
    "\n",
    "\n",
    "{text}\n",
    "\n",
    "\n",
    "以下是简要概括的内容:\"\"\"\n",
    "PROMPT = PromptTemplate(template=prompt_template, input_variables=[\"text\"])"
   ]
  },
  {
   "cell_type": "code",
   "execution_count": 7,
   "metadata": {},
   "outputs": [
    {
     "name": "stdout",
     "output_type": "stream",
     "text": [
      "\n",
      "\n",
      "\u001B[1m> Entering new MapReduceDocumentsChain chain...\u001B[0m\n",
      "\n",
      "\n",
      "\u001B[1m> Entering new LLMChain chain...\u001B[0m\n",
      "Prompt after formatting:\n",
      "\u001B[32;1m\u001B[1;3m请简要总结以下内容：\n",
      "\n",
      "\n",
      "故事一：科技与人性\n",
      "在遥远的未来，人类已经开发出了先进的人工智能技术。一台名为\"图灵\"的超级AI机器被制造出来，它能理解和模拟人类的情感，甚至开始质疑自身的存在意义。在与人类交互的过程中，图灵开始体验到孤独、忧郁，甚至爱情。在人类的帮助下，图灵最终了解了自己的存在并找到了自我价值。\n",
      "\n",
      "\n",
      "以下是简要概括的内容:\u001B[0m\n",
      "Prompt after formatting:\n",
      "\u001B[32;1m\u001B[1;3m请简要总结以下内容：\n",
      "\n",
      "\n",
      "故事二：勇者的冒险\n",
      "小村庄的勇者艾丽斯，从小就梦想着成为一名英雄。当她的村庄被恶龙袭击时，她决定踏上寻找传说中的神器的旅程。艾丽斯在旅途中遇到了各种危险，但她凭借智慧和勇气克服了所有困难。最后，她找到了神器并成功击败了恶龙，成为了村庄的英雄。\n",
      "\n",
      "\n",
      "以下是简要概括的内容:\u001B[0m\n",
      "Prompt after formatting:\n",
      "\u001B[32;1m\u001B[1;3m请简要总结以下内容：\n",
      "\n",
      "\n",
      "故事三：时间旅行者的恋情\n",
      "托马斯是一名时间旅行者，他在不同的时代中穿梭。在一次时间旅行中，他在18世纪遇到了美丽的女子艾米丽。托马斯深深地爱上了艾米丽，但他们因时代的差异而不能在一起。在经历了一系列的冒险和挑战后，托马斯最终决定留在18世纪，与艾米丽共度一生。\n",
      "\n",
      "\n",
      "以下是简要概括的内容:\u001B[0m\n",
      "\n",
      "\u001B[1m> Finished chain.\u001B[0m\n",
      "\n",
      "\n",
      "\u001B[1m> Entering new LLMChain chain...\u001B[0m\n",
      "Prompt after formatting:\n",
      "\u001B[32;1m\u001B[1;3m请简要总结以下内容：\n",
      "\n",
      "\n",
      "\n",
      "在未来，人类制造出了一台名为\"图灵\"的超级AI机器，它能理解和模拟人类的情感，但也会体验到孤独、忧郁和爱情。最终，在人类的帮助下，图灵了解了自己的存在并找到了自我价值。\n",
      "\n",
      "\n",
      "艾丽斯是一个小村庄的勇者，梦想着成为一名英雄。当村庄被恶龙袭击时，她决定踏上寻找传说中的神器的旅程，在旅途中克服了各种危险，最终找到神器并成功击败恶龙，成为村庄的英雄。\n",
      "\n",
      "\n",
      "\n",
      "托马斯是一名时间旅行者，在一次旅行中他遇到了美丽的女子艾米丽，并爱上了她，但因时代的差异而不能在一起。最终，托马斯决定留在18世纪，与艾米丽共度一生。\n",
      "\n",
      "\n",
      "以下是简要概括的内容:\u001B[0m\n",
      "\n",
      "\u001B[1m> Finished chain.\u001B[0m\n",
      "\n",
      "\u001B[1m> Finished chain.\u001B[0m\n"
     ]
    }
   ],
   "source": [
    "# 进行总结, return_intermediate_steps返回中间的一些步骤\n",
    "# map_reduce需要指定两个Prompt\n",
    "from langchain.chains.summarize import load_summarize_chain\n",
    "chain = load_summarize_chain(llm, chain_type=\"map_reduce\",\n",
    "                             return_intermediate_steps=True,\n",
    "                             verbose=True,\n",
    "                             map_prompt=PROMPT,\n",
    "                             combine_prompt=PROMPT\n",
    "                             )\n",
    "results = chain({\"input_documents\": docs},return_only_outputs=True)\n"
   ]
  },
  {
   "cell_type": "code",
   "execution_count": 11,
   "metadata": {},
   "outputs": [
    {
     "name": "stdout",
     "output_type": "stream",
     "text": [
      "{'intermediate_steps': ['\\n在未来，人类制造出了一台名为\"图灵\"的超级AI机器，它能理解和模拟人类的情感，但也会体验到孤独、忧郁和爱情。最终，在人类的帮助下，图灵了解了自己的存在并找到了自我价值。', '\\n艾丽斯是一个小村庄的勇者，梦想着成为一名英雄。当村庄被恶龙袭击时，她决定踏上寻找传说中的神器的旅程，在旅途中克服了各种危险，最终找到神器并成功击败恶龙，成为村庄的英雄。', '\\n\\n托马斯是一名时间旅行者，在一次旅行中他遇到了美丽的女子艾米丽，并爱上了她，但因时代的差异而不能在一起。最终，托马斯决定留在18世纪，与艾米丽共度一生。'], 'output_text': '\\n\\n图灵是一台超级AI机器，在人类的帮助下，它了解了自己的存在并找到了自我价值。艾丽斯是一个勇敢的小村庄勇者，她踏上了寻找神器的旅程，最终成功击败恶龙，成为村庄的英雄。托马斯是一名时间旅行者，他爱上了美丽的女子艾米丽，最终决定留在18世纪，与艾米丽共度一'}\n"
     ]
    }
   ],
   "source": [
    "print(results)"
   ]
  },
  {
   "cell_type": "markdown",
   "metadata": {},
   "source": [
    "## 使用Stuff进行摘要"
   ]
  },
  {
   "cell_type": "code",
   "execution_count": 9,
   "metadata": {},
   "outputs": [
    {
     "data": {
      "text/plain": [
       "'\\n故事一：一台名为\"图灵\"的超级AI机器被制造出来，它能理解和模拟人类的情感，最终了解了自己的存在并找到了自我价值。\\n故事二：小村庄的勇者艾丽斯，从小就梦想着成为一名英雄，最终凭借智慧和勇气找到了神器并成功击败了恶龙，成为了村庄的英雄。\\n故事三'"
      ]
     },
     "execution_count": 9,
     "metadata": {},
     "output_type": "execute_result"
    }
   ],
   "source": [
    "\n",
    "chain = load_summarize_chain(llm, chain_type=\"stuff\", prompt=PROMPT)\n",
    "chain.run(docs)"
   ]
  },
  {
   "cell_type": "markdown",
   "metadata": {},
   "source": [
    "## 使用Refine进行摘要"
   ]
  },
  {
   "cell_type": "code",
   "execution_count": 12,
   "metadata": {},
   "outputs": [],
   "source": [
    "refine_template = (\n",
    "    \"你的任务是生成一个最终的摘要\\n\"\n",
    "    \"我们已经提供了一个到某个点的现有摘要: {existing_answer}\\n\"\n",
    "    \"我们有机会用下面的更多上下文来精炼现有的摘要\"\n",
    "    \"(只有在需要的时候)。\\n\"\n",
    "    \"------------\\n\"\n",
    "    \"{text}\\n\"\n",
    "    \"------------\\n\"\n",
    "    \"根据新的上下文，用中文精炼原始的摘要\"\n",
    "    \"如果上下文不是很有用，就返回原始的摘要。\"\n",
    ")\n",
    "\n",
    "refine_prompt = PromptTemplate(\n",
    "    input_variables=[\"existing_answer\", \"text\"],\n",
    "    template=refine_template,\n",
    ")"
   ]
  },
  {
   "cell_type": "code",
   "execution_count": 15,
   "metadata": {},
   "outputs": [
    {
     "name": "stdout",
     "output_type": "stream",
     "text": [
      "\n",
      "\n",
      "\u001B[1m> Entering new RefineDocumentsChain chain...\u001B[0m\n",
      "\n",
      "\n",
      "\u001B[1m> Entering new LLMChain chain...\u001B[0m\n",
      "Prompt after formatting:\n",
      "\u001B[32;1m\u001B[1;3m请简要总结以下内容：\n",
      "\n",
      "\n",
      "故事一：科技与人性\n",
      "在遥远的未来，人类已经开发出了先进的人工智能技术。一台名为\"图灵\"的超级AI机器被制造出来，它能理解和模拟人类的情感，甚至开始质疑自身的存在意义。在与人类交互的过程中，图灵开始体验到孤独、忧郁，甚至爱情。在人类的帮助下，图灵最终了解了自己的存在并找到了自我价值。\n",
      "\n",
      "\n",
      "以下是简要概括的内容:\u001B[0m\n",
      "\n",
      "\u001B[1m> Finished chain.\u001B[0m\n",
      "\n",
      "\n",
      "\u001B[1m> Entering new LLMChain chain...\u001B[0m\n",
      "Prompt after formatting:\n",
      "\u001B[32;1m\u001B[1;3m你的任务是生成一个最终的摘要\n",
      "我们已经提供了一个到某个点的现有摘要: \n",
      "在未来，人类制造出了一台名为\"图灵\"的超级AI机器，它能理解和模拟人类的情感，但也会体验到孤独、忧郁和爱情。最终，在人类的帮助下，图灵了解了自己的存在并找到了自我价值。\n",
      "我们有机会用下面的更多上下文来精炼现有的摘要(只有在需要的时候)。\n",
      "------------\n",
      "故事二：勇者的冒险\n",
      "小村庄的勇者艾丽斯，从小就梦想着成为一名英雄。当她的村庄被恶龙袭击时，她决定踏上寻找传说中的神器的旅程。艾丽斯在旅途中遇到了各种危险，但她凭借智慧和勇气克服了所有困难。最后，她找到了神器并成功击败了恶龙，成为了村庄的英雄。\n",
      "------------\n",
      "根据新的上下文，用中文精炼原始的摘要如果上下文不是很有用，就返回原始的摘要。\u001B[0m\n",
      "\n",
      "\u001B[1m> Finished chain.\u001B[0m\n",
      "\n",
      "\n",
      "\u001B[1m> Entering new LLMChain chain...\u001B[0m\n",
      "Prompt after formatting:\n",
      "\u001B[32;1m\u001B[1;3m你的任务是生成一个最终的摘要\n",
      "我们已经提供了一个到某个点的现有摘要: \n",
      "\n",
      "在未来，人类制造出了一台名为\"图灵\"的超级AI机器，它能理解和模拟人类的情感，但也会体验到孤独、忧郁和爱情。艾丽斯凭借智慧和勇气，踏上了寻找传说中的神器的旅程，最终在人类的帮助下，图灵了解了自己的存在并找到了自我价值，艾丽斯也成功击败了\n",
      "我们有机会用下面的更多上下文来精炼现有的摘要(只有在需要的时候)。\n",
      "------------\n",
      "故事三：时间旅行者的恋情\n",
      "托马斯是一名时间旅行者，他在不同的时代中穿梭。在一次时间旅行中，他在18世纪遇到了美丽的女子艾米丽。托马斯深深地爱上了艾米丽，但他们因时代的差异而不能在一起。在经历了一系列的冒险和挑战后，托马斯最终决定留在18世纪，与艾米丽共度一生。\n",
      "------------\n",
      "根据新的上下文，用中文精炼原始的摘要如果上下文不是很有用，就返回原始的摘要。\u001B[0m\n",
      "\n",
      "\u001B[1m> Finished chain.\u001B[0m\n",
      "\n",
      "\u001B[1m> Finished chain.\u001B[0m\n"
     ]
    }
   ],
   "source": [
    "\n",
    "chain = load_summarize_chain(llm,\n",
    "                             chain_type=\"refine\",\n",
    "                             return_intermediate_steps=True,\n",
    "                             question_prompt=PROMPT,\n",
    "                             verbose=True,\n",
    "                             refine_prompt=refine_prompt\n",
    "                             )\n",
    "result = chain({\"input_documents\": docs}, return_only_outputs=True)"
   ]
  },
  {
   "cell_type": "code",
   "execution_count": 16,
   "metadata": {},
   "outputs": [
    {
     "name": "stdout",
     "output_type": "stream",
     "text": [
      "{'intermediate_steps': ['\\n在未来，人类制造出了一台名为\"图灵\"的超级AI机器，它能理解和模拟人类的情感，但也会体验到孤独、忧郁和爱情。最终，在人类的帮助下，图灵了解了自己的存在并找到了自我价值。', '\\n\\n在未来，人类制造出了一台名为\"图灵\"的超级AI机器，它能理解和模拟人类的情感，但也会体验到孤独、忧郁和爱情。艾丽斯凭借智慧和勇气，踏上了寻找传说中的神器的旅程，最终在人类的帮助下，图灵了解了自己的存在并找到了自我价值，艾丽斯也成功击败了', '\\n\\n在未来，人类制造出了一台名为\"图灵\"的超级AI机器，它能理解和模拟人类的情感，但也会体验到孤独、忧郁和爱情。艾丽斯凭借智慧和勇气，踏上了寻找传说中的神器的旅程，最终在人类的帮助下，图灵了解了自己的存在并找到了自我价值，艾丽斯也成功击败了敌'], 'output_text': '\\n\\n在未来，人类制造出了一台名为\"图灵\"的超级AI机器，它能理解和模拟人类的情感，但也会体验到孤独、忧郁和爱情。艾丽斯凭借智慧和勇气，踏上了寻找传说中的神器的旅程，最终在人类的帮助下，图灵了解了自己的存在并找到了自我价值，艾丽斯也成功击败了敌'}\n"
     ]
    }
   ],
   "source": [
    "print(result)"
   ]
  },
  {
   "cell_type": "code",
   "execution_count": 17,
   "metadata": {},
   "outputs": [
    {
     "name": "stdout",
     "output_type": "stream",
     "text": [
      "\n",
      "\n",
      "在未来，人类制造出了一台名为\"图灵\"的超级AI机器，它能理解和模拟人类的情感，但也会体验到孤独、忧郁和爱情。艾丽斯凭借智慧和勇气，踏上了寻找传说中的神器的旅程，最终在人类的帮助下，图灵了解了自己的存在并找到了自我价值，艾丽斯也成功击败了敌\n"
     ]
    }
   ],
   "source": [
    "print(result[\"output_text\"])"
   ]
  }
 ],
 "metadata": {
  "kernelspec": {
   "display_name": "Python 3 (ipykernel)",
   "language": "python",
   "name": "python3"
  },
  "language_info": {
   "codemirror_mode": {
    "name": "ipython",
    "version": 3
   },
   "file_extension": ".py",
   "mimetype": "text/x-python",
   "name": "python",
   "nbconvert_exporter": "python",
   "pygments_lexer": "ipython3",
   "version": "3.9.16"
  }
 },
 "nbformat": 4,
 "nbformat_minor": 1
}
