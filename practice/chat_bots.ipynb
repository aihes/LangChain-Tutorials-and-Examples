{
 "cells": [
  {
   "cell_type": "markdown",
   "source": [
    "OpenAI类是OpenAI Python库的主要接口，它提供了一种方式来调用OpenAI的各种API，你可以使用这个类来生成单个的文本响应，你可以输入一个提示，然后模型会生成一个响应。\n",
    "\n",
    "ChatOpenAI类是一个专门为聊天应用设计的接口。它提供了一种方式来创建一个多轮的对话，你可以输入一个对话的历史（包括用户的输入和模型的回复），然后模型会生成一个接着这个历史的回复。这个类是为了更好地支持聊天应用，例如聊天机器人或者虚拟助手，它可以处理多轮的对话，而不仅仅是单个的文本生成。"
   ],
   "metadata": {
    "collapsed": false
   }
  },
  {
   "cell_type": "markdown",
   "source": [
    "## 使用OpenAI"
   ],
   "metadata": {
    "collapsed": false
   }
  },
  {
   "cell_type": "markdown",
   "source": [
    "导入所需的模块和工具，包括搜索工具、内存组件和语言模型。"
   ],
   "metadata": {
    "collapsed": false
   }
  },
  {
   "cell_type": "code",
   "execution_count": 1,
   "metadata": {},
   "outputs": [],
   "source": [
    "from langchain.agents import Tool\n",
    "from langchain.agents import AgentType\n",
    "from langchain.memory import ConversationBufferMemory\n",
    "from langchain import OpenAI\n",
    "from langchain.utilities import SerpAPIWrapper\n",
    "from langchain.agents import initialize_agent"
   ]
  },
  {
   "cell_type": "markdown",
   "metadata": {},
   "source": [
    "初始化搜索工具、内存组件和语言模型。"
   ]
  },
  {
   "cell_type": "code",
   "execution_count": 2,
   "metadata": {},
   "outputs": [],
   "source": [
    "search = SerpAPIWrapper()\n",
    "tools = [ Tool(\n",
    "    name = \"搜索工具\",\n",
    "    func=search.run,\n",
    "    description=\"当你需要回答关于最新的事件或世界现状的问题时非常有用\"\n",
    ")\n",
    ", ]\n",
    "memory = ConversationBufferMemory(memory_key=\"chat_history\")\n",
    "llm=OpenAI(temperature=0)\n",
    "\n",
    "agent_chain = initialize_agent(tools, llm, agent=AgentType.CONVERSATIONAL_REACT_DESCRIPTION, verbose=True, memory=memory)\n"
   ]
  },
  {
   "cell_type": "markdown",
   "metadata": {},
   "source": [
    "运行代理链并输入问题。"
   ]
  },
  {
   "cell_type": "code",
   "execution_count": 8,
   "metadata": {},
   "outputs": [
    {
     "name": "stdout",
     "output_type": "stream",
     "text": [
      "\n",
      "\n",
      "\u001B[1m> Entering new AgentExecutor chain...\u001B[0m\n",
      "\u001B[32;1m\u001B[1;3m\n",
      "AI: 很高兴认识你，致问！有什么可以帮助你的吗？\u001B[0m\n",
      "\n",
      "\u001B[1m> Finished chain.\u001B[0m\n"
     ]
    },
    {
     "data": {
      "text/plain": [
       "'很高兴认识你，致问！有什么可以帮助你的吗？'"
      ]
     },
     "execution_count": 8,
     "metadata": {},
     "output_type": "execute_result"
    }
   ],
   "source": [
    "agent_chain.run(input=\"你好，我的名字是致问\")"
   ]
  },
  {
   "cell_type": "code",
   "execution_count": 9,
   "metadata": {},
   "outputs": [
    {
     "name": "stdout",
     "output_type": "stream",
     "text": [
      "\n",
      "\n",
      "\u001B[1m> Entering new AgentExecutor chain...\u001B[0m\n",
      "\u001B[32;1m\u001B[1;3m\n",
      "Thought: Do I need to use a tool? No\n",
      "AI: 很高兴认识你，致问！\u001B[0m\n",
      "\n",
      "\u001B[1m> Finished chain.\u001B[0m\n"
     ]
    },
    {
     "data": {
      "text/plain": [
       "'很高兴认识你，致问！'"
      ]
     },
     "execution_count": 9,
     "metadata": {},
     "output_type": "execute_result"
    }
   ],
   "source": [
    "agent_chain.run(input=\"回答下我叫什么？\")"
   ]
  },
  {
   "cell_type": "code",
   "execution_count": 10,
   "metadata": {},
   "outputs": [
    {
     "name": "stdout",
     "output_type": "stream",
     "text": [
      "\n",
      "\n",
      "\u001B[1m> Entering new AgentExecutor chain...\u001B[0m\n",
      "\u001B[32;1m\u001B[1;3m\n",
      "Thought: Do I need to use a tool? Yes\n",
      "Action: 搜索工具\n",
      "Action Input: 今天杭州天气怎么样？\u001B[0m\n",
      "Observation: \u001B[36;1m\u001B[1;3m19日（今天）. 雷阵雨. 26℃. <3级 · 20日（明天）. 雷阵雨转小雨. 33℃/26℃. 3-4级转<3级 · 21日（后天）. 雷阵雨转阴. 32℃/26℃. 4-5级转<3级 · 22日（周六）. 雷阵雨转小雨.\u001B[0m\n",
      "Thought:\u001B[32;1m\u001B[1;3m Do I need to use a tool? No\n",
      "AI: 根据最新的天气预报，今天杭州的天气是雷阵雨，温度为26℃，风力为3级。\u001B[0m\n",
      "\n",
      "\u001B[1m> Finished chain.\u001B[0m\n"
     ]
    },
    {
     "data": {
      "text/plain": [
       "'根据最新的天气预报，今天杭州的天气是雷阵雨，温度为26℃，风力为3级。'"
      ]
     },
     "execution_count": 10,
     "metadata": {},
     "output_type": "execute_result"
    }
   ],
   "source": [
    "agent_chain.run(input=\"今天杭州天气怎么样？\")"
   ]
  },
  {
   "cell_type": "code",
   "execution_count": 11,
   "metadata": {},
   "outputs": [
    {
     "name": "stdout",
     "output_type": "stream",
     "text": [
      "\n",
      "\n",
      "\u001B[1m> Entering new AgentExecutor chain...\u001B[0m\n",
      "\u001B[32;1m\u001B[1;3m\n",
      "Thought: Do I need to use a tool? No\n",
      "AI: 很高兴认识你，致问！\u001B[0m\n",
      "\n",
      "\u001B[1m> Finished chain.\u001B[0m\n"
     ]
    },
    {
     "data": {
      "text/plain": [
       "'很高兴认识你，致问！'"
      ]
     },
     "execution_count": 11,
     "metadata": {},
     "output_type": "execute_result"
    }
   ],
   "source": [
    "agent_chain.run(input=\"再说下我的名字叫什么？\")"
   ]
  },
  {
   "cell_type": "code",
   "execution_count": 13,
   "metadata": {},
   "outputs": [
    {
     "name": "stdout",
     "output_type": "stream",
     "text": [
      "Human: 你好，我是致问\n",
      "AI: 你好，很高兴认识你！有什么可以帮助你的吗？\n",
      "Human: 我叫什么？\n",
      "AI: 很高兴认识你！你叫什么名字？\n",
      "Human: 回答下我叫什么？\n",
      "AI: 很高兴认识你，[你的名字]！\n",
      "Human: 今天杭州天气怎么样？\n",
      "AI: 根据最新的天气预报，今天杭州的天气是雷阵雨，温度为26℃，风力为3级。\n",
      "Human: 再说下我的名字叫什么？\n",
      "AI: 很高兴认识你，[你的名字]！\n",
      "Human: 你好，我的名字是致问\n",
      "AI: 很高兴认识你，致问！有什么可以帮助你的吗？\n",
      "Human: 回答下我叫什么？\n",
      "AI: 很高兴认识你，致问！\n",
      "Human: 今天杭州天气怎么样？\n",
      "AI: 根据最新的天气预报，今天杭州的天气是雷阵雨，温度为26℃，风力为3级。\n",
      "Human: 再说下我的名字叫什么？\n",
      "AI: 很高兴认识你，致问！\n"
     ]
    }
   ],
   "source": [
    "print(memory.buffer)"
   ]
  },
  {
   "cell_type": "code",
   "execution_count": 14,
   "metadata": {},
   "outputs": [
    {
     "name": "stdout",
     "output_type": "stream",
     "text": [
      "{'chat_history': 'Human: 你好，我是致问\\nAI: 你好，很高兴认识你！有什么可以帮助你的吗？\\nHuman: 我叫什么？\\nAI: 很高兴认识你！你叫什么名字？\\nHuman: 回答下我叫什么？\\nAI: 很高兴认识你，[你的名字]！\\nHuman: 今天杭州天气怎么样？\\nAI: 根据最新的天气预报，今天杭州的天气是雷阵雨，温度为26℃，风力为3级。\\nHuman: 再说下我的名字叫什么？\\nAI: 很高兴认识你，[你的名字]！\\nHuman: 你好，我的名字是致问\\nAI: 很高兴认识你，致问！有什么可以帮助你的吗？\\nHuman: 回答下我叫什么？\\nAI: 很高兴认识你，致问！\\nHuman: 今天杭州天气怎么样？\\nAI: 根据最新的天气预报，今天杭州的天气是雷阵雨，温度为26℃，风力为3级。\\nHuman: 再说下我的名字叫什么？\\nAI: 很高兴认识你，致问！'}\n"
     ]
    }
   ],
   "source": [
    "print(memory.load_memory_variables({}))"
   ]
  },
  {
   "cell_type": "markdown",
   "metadata": {},
   "source": [
    "## 使用ChatOpenAI\n"
   ]
  },
  {
   "cell_type": "code",
   "execution_count": 15,
   "metadata": {},
   "outputs": [],
   "source": [
    "from langchain.memory import ConversationBufferMemory\n",
    "from langchain.chat_models import ChatOpenAI\n",
    "\n",
    "memory = ConversationBufferMemory(memory_key=\"chat_history\", return_messages=True)\n",
    "llm = ChatOpenAI(temperature=0)\n",
    "agent_chain = initialize_agent(\n",
    "    tools,\n",
    "    llm,\n",
    "    agent=AgentType.CHAT_CONVERSATIONAL_REACT_DESCRIPTION,\n",
    "    verbose=True,\n",
    "    memory=memory\n",
    ")\n"
   ]
  },
  {
   "cell_type": "code",
   "execution_count": 16,
   "metadata": {},
   "outputs": [
    {
     "name": "stdout",
     "output_type": "stream",
     "text": [
      "\n",
      "\n",
      "\u001B[1m> Entering new AgentExecutor chain...\u001B[0m\n",
      "\u001B[32;1m\u001B[1;3m{\n",
      "    \"action\": \"Final Answer\",\n",
      "    \"action_input\": \"你好，致问！我是Assistant，很高兴为你提供帮助。有什么我可以帮你的吗？\"\n",
      "}\u001B[0m\n",
      "\n",
      "\u001B[1m> Finished chain.\u001B[0m\n"
     ]
    },
    {
     "data": {
      "text/plain": [
       "'你好，致问！我是Assistant，很高兴为你提供帮助。有什么我可以帮你的吗？'"
      ]
     },
     "execution_count": 16,
     "metadata": {},
     "output_type": "execute_result"
    }
   ],
   "source": [
    "agent_chain.run(\"你好，我的名字叫致问？\")"
   ]
  },
  {
   "cell_type": "code",
   "execution_count": 17,
   "metadata": {},
   "outputs": [
    {
     "name": "stdout",
     "output_type": "stream",
     "text": [
      "\n",
      "\n",
      "\u001B[1m> Entering new AgentExecutor chain...\u001B[0m\n",
      "\u001B[32;1m\u001B[1;3m{\n",
      "    \"action\": \"搜索工具\",\n",
      "    \"action_input\": \"杭州今天天气\"\n",
      "}\u001B[0m\n",
      "Observation: \u001B[36;1m\u001B[1;3m今天（7月15日），东北部分地区强降雨仍在持续，同时，江南、华南等地降雨发展。气温方面，华北、黄淮一带多晴朗天气，高温间断出没，南方多地闷热持续。\u001B[0m\n",
      "Thought:\u001B[32;1m\u001B[1;3m{\n",
      "    \"action\": \"Final Answer\",\n",
      "    \"action_input\": \"根据最新的天气情况，今天杭州的天气情况是东北部分地区强降雨仍在持续，同时，江南、华南等地降雨发展。华北、黄淮一带多晴朗天气，高温间断出没，南方多地闷热持续。\"\n",
      "}\u001B[0m\n",
      "\n",
      "\u001B[1m> Finished chain.\u001B[0m\n"
     ]
    },
    {
     "data": {
      "text/plain": [
       "'根据最新的天气情况，今天杭州的天气情况是东北部分地区强降雨仍在持续，同时，江南、华南等地降雨发展。华北、黄淮一带多晴朗天气，高温间断出没，南方多地闷热持续。'"
      ]
     },
     "execution_count": 17,
     "metadata": {},
     "output_type": "execute_result"
    }
   ],
   "source": [
    "agent_chain.run(\"今天杭州天气怎么样？\")"
   ]
  },
  {
   "cell_type": "code",
   "execution_count": 19,
   "metadata": {},
   "outputs": [
    {
     "name": "stdout",
     "output_type": "stream",
     "text": [
      "[HumanMessage(content='你好，我的名字叫致问？', additional_kwargs={}, example=False), AIMessage(content='你好，致问！我是Assistant，很高兴为你提供帮助。有什么我可以帮你的吗？', additional_kwargs={}, example=False), HumanMessage(content='今天杭州天气怎么样？', additional_kwargs={}, example=False), AIMessage(content='根据最新的天气情况，今天杭州的天气情况是东北部分地区强降雨仍在持续，同时，江南、华南等地降雨发展。华北、黄淮一带多晴朗天气，高温间断出没，南方多地闷热持续。', additional_kwargs={}, example=False)]\n"
     ]
    }
   ],
   "source": [
    "print(memory.buffer)"
   ]
  },
  {
   "cell_type": "code",
   "execution_count": 20,
   "metadata": {},
   "outputs": [
    {
     "name": "stdout",
     "output_type": "stream",
     "text": [
      "\n",
      "\n",
      "\u001B[1m> Entering new AgentExecutor chain...\u001B[0m\n",
      "\u001B[32;1m\u001B[1;3m{\n",
      "    \"action\": \"Final Answer\",\n",
      "    \"action_input\": \"你的名字是致问\"\n",
      "}\u001B[0m\n",
      "\n",
      "\u001B[1m> Finished chain.\u001B[0m\n"
     ]
    },
    {
     "data": {
      "text/plain": [
       "'你的名字是致问'"
      ]
     },
     "execution_count": 20,
     "metadata": {},
     "output_type": "execute_result"
    }
   ],
   "source": [
    "agent_chain.run(\"我的名字叫什么吗？\")"
   ]
  },
  {
   "cell_type": "code",
   "execution_count": 21,
   "metadata": {},
   "outputs": [
    {
     "name": "stdout",
     "output_type": "stream",
     "text": [
      "{'chat_history': [HumanMessage(content='你好，我的名字叫致问？', additional_kwargs={}, example=False), AIMessage(content='你好，致问！我是Assistant，很高兴为你提供帮助。有什么我可以帮你的吗？', additional_kwargs={}, example=False), HumanMessage(content='今天杭州天气怎么样？', additional_kwargs={}, example=False), AIMessage(content='根据最新的天气情况，今天杭州的天气情况是东北部分地区强降雨仍在持续，同时，江南、华南等地降雨发展。华北、黄淮一带多晴朗天气，高温间断出没，南方多地闷热持续。', additional_kwargs={}, example=False), HumanMessage(content='我的名字叫什么吗？', additional_kwargs={}, example=False), AIMessage(content='你的名字是致问', additional_kwargs={}, example=False)]}\n"
     ]
    }
   ],
   "source": [
    "print(memory.load_memory_variables({}))"
   ]
  },
  {
   "cell_type": "code",
   "execution_count": null,
   "metadata": {},
   "outputs": [],
   "source": []
  }
 ],
 "metadata": {
  "kernelspec": {
   "display_name": "Python 3 (ipykernel)",
   "language": "python",
   "name": "python3"
  },
  "language_info": {
   "codemirror_mode": {
    "name": "ipython",
    "version": 3
   },
   "file_extension": ".py",
   "mimetype": "text/x-python",
   "name": "python",
   "nbconvert_exporter": "python",
   "pygments_lexer": "ipython3",
   "version": "3.9.16"
  }
 },
 "nbformat": 4,
 "nbformat_minor": 1
}
