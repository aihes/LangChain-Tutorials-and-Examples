{
 "cells": [
  {
   "cell_type": "markdown",
   "source": [
    "## Output parsers\n",
    "语言模型输出的是文本。但很多时候，我们想要获得更结构化的信息。\n",
    "输出解析器可以帮助我们结构化语言模型的输出。\n",
    "\n",
    "输出解析器有两个主要方法：\n",
    "“获取格式说明(Get format instructions)”：返回一个字符串，告诉语言模型输出应该输出什么格式\n",
    "“解析(Parse)”：接受一个字符串（假定为语言模型的响应），并将其解析为某种结构。"
   ],
   "metadata": {
    "collapsed": false
   }
  },
  {
   "cell_type": "code",
   "execution_count": 1,
   "outputs": [],
   "source": [
    "from langchain.prompts import PromptTemplate, ChatPromptTemplate, HumanMessagePromptTemplate\n",
    "from langchain.llms import OpenAI\n",
    "from langchain.chat_models import ChatOpenAI\n",
    "\n",
    "from langchain.output_parsers import PydanticOutputParser\n",
    "from pydantic import BaseModel, Field, validator\n",
    "from typing import List\n",
    "model = OpenAI()\n",
    "\n",
    "# 定义我们输出的类结构\n",
    "class Joke(BaseModel):\n",
    "    setup: str = Field(description=\"设定笑话的问题\")\n",
    "    punchline: str = Field(description=\"解决笑话的答案\")\n",
    "\n",
    "    # 你可以很容易地用Pydantic添加自定义验证逻辑。\n",
    "    @validator('setup')\n",
    "    def question_ends_with_question_mark(cls, field):\n",
    "        if field[-1] != '?':\n",
    "            raise ValueError(\"问题格式错误！\")\n",
    "        return field\n",
    "# 定义我们的输出解析器\n",
    "parser = PydanticOutputParser(pydantic_object=Joke)"
   ],
   "metadata": {
    "collapsed": false
   }
  },
  {
   "cell_type": "code",
   "execution_count": 2,
   "outputs": [
    {
     "name": "stdout",
     "output_type": "stream",
     "text": [
      "The output should be formatted as a JSON instance that conforms to the JSON schema below.\n",
      "\n",
      "As an example, for the schema {\"properties\": {\"foo\": {\"title\": \"Foo\", \"description\": \"a list of strings\", \"type\": \"array\", \"items\": {\"type\": \"string\"}}}, \"required\": [\"foo\"]}}\n",
      "the object {\"foo\": [\"bar\", \"baz\"]} is a well-formatted instance of the schema. The object {\"properties\": {\"foo\": [\"bar\", \"baz\"]}} is not well-formatted.\n",
      "\n",
      "Here is the output schema:\n",
      "```\n",
      "{\"properties\": {\"setup\": {\"title\": \"Setup\", \"description\": \"\\u8bbe\\u5b9a\\u7b11\\u8bdd\\u7684\\u95ee\\u9898\", \"type\": \"string\"}, \"punchline\": {\"title\": \"Punchline\", \"description\": \"\\u89e3\\u51b3\\u7b11\\u8bdd\\u7684\\u7b54\\u6848\", \"type\": \"string\"}}, \"required\": [\"setup\", \"punchline\"]}\n",
      "```\n"
     ]
    }
   ],
   "source": [
    "print(parser.get_format_instructions())"
   ],
   "metadata": {
    "collapsed": false
   }
  },
  {
   "cell_type": "code",
   "execution_count": 4,
   "outputs": [
    {
     "name": "stdout",
     "output_type": "stream",
     "text": [
      "{\"setup\": \"Why did the chicken cross the road?\", \"punchline\": \"To get to the other side!\"}\n"
     ]
    }
   ],
   "source": [
    "prompt = PromptTemplate(\n",
    "    template=\"回答用户的输入：.\\n{format_instructions}\\n{query}\\n\",\n",
    "    input_variables=[\"query\"],\n",
    "    partial_variables={\"format_instructions\": parser.get_format_instructions()}\n",
    ")\n",
    "joke_query = \"给我讲一个笑话？\"\n",
    "_input = prompt.format_prompt(query=joke_query)\n",
    "output = model(_input.to_string())\n",
    "print(output)"
   ],
   "metadata": {
    "collapsed": false
   }
  },
  {
   "cell_type": "code",
   "execution_count": 6,
   "outputs": [
    {
     "data": {
      "text/plain": "Joke(setup='Why did the chicken cross the road?', punchline='To get to the other side!')"
     },
     "execution_count": 6,
     "metadata": {},
     "output_type": "execute_result"
    }
   ],
   "source": [
    "parser.parse(output)"
   ],
   "metadata": {
    "collapsed": false
   }
  },
  {
   "cell_type": "code",
   "execution_count": 2,
   "outputs": [
    {
     "name": "stdout",
     "output_type": "stream",
     "text": [
      "The output should be formatted as a JSON instance that conforms to the JSON schema below.\n",
      "\n",
      "As an example, for the schema {\"properties\": {\"foo\": {\"title\": \"Foo\", \"description\": \"a list of strings\", \"type\": \"array\", \"items\": {\"type\": \"string\"}}}, \"required\": [\"foo\"]}\n",
      "the object {\"foo\": [\"bar\", \"baz\"]} is a well-formatted instance of the schema. The object {\"properties\": {\"foo\": [\"bar\", \"baz\"]}} is not well-formatted.\n",
      "\n",
      "Here is the output schema:\n",
      "```\n",
      "{\"properties\": {\"crowd_ids\": {\"title\": \"Crowd Ids\", \"description\": \"\\u4f7f\\u7528\\u9017\\u53f7\\u5206\\u9694\\u7684\\u4eba\\u7fa4Id\\u5217\\u8868\\uff1b\\u6bd4\\u5982\\uff1a1,2,3\", \"type\": \"string\"}}, \"required\": [\"crowd_ids\"]}\n",
      "```\n"
     ]
    }
   ],
   "source": [
    "class CrowdInfoRequest(BaseModel):\n",
    "    crowd_ids: str = Field(description=\"使用逗号分隔的人群Id列表；比如：1,2,3\")\n",
    "\n",
    "parser = PydanticOutputParser(pydantic_object=CrowdInfoRequest)\n",
    "print(parser.get_format_instructions())"
   ],
   "metadata": {
    "collapsed": false
   }
  }
 ],
 "metadata": {
  "kernelspec": {
   "display_name": "Python 3",
   "language": "python",
   "name": "python3"
  },
  "language_info": {
   "codemirror_mode": {
    "name": "ipython",
    "version": 2
   },
   "file_extension": ".py",
   "mimetype": "text/x-python",
   "name": "python",
   "nbconvert_exporter": "python",
   "pygments_lexer": "ipython2",
   "version": "2.7.6"
  }
 },
 "nbformat": 4,
 "nbformat_minor": 0
}
