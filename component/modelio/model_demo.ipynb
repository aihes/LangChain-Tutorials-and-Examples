{
 "cells": [
  {
   "cell_type": "markdown",
   "source": [
    "## LLMs\n",
    "LangChain自身不是模型，但是给不同的大语言模型提供了标准的使用接口"
   ],
   "metadata": {
    "collapsed": false
   }
  },
  {
   "cell_type": "code",
   "execution_count": 2,
   "outputs": [
    {
     "name": "stdout",
     "output_type": "stream",
     "text": [
      "\n",
      "\n",
      "两个病人在医院病房里，一个说：“你知道为什么医院的灯都是绿色的吗？”另一个病人答道：“不知道，为什么？”第一个病人说：“因为绿色是医生的最爱！”\n"
     ]
    }
   ],
   "source": [
    "from langchain.llms import OpenAI\n",
    "\n",
    "llm = OpenAI()\n",
    "# 输入为字符串，输出也为字符串\n",
    "output = llm(\"给我讲个笑话\")\n",
    "print(output)"
   ],
   "metadata": {
    "collapsed": false
   }
  },
  {
   "cell_type": "code",
   "execution_count": 3,
   "outputs": [
    {
     "name": "stdout",
     "output_type": "stream",
     "text": [
      "4\n",
      "[Generation(text='\\n\\n一个人在买东西，收银员问他：“您是不是有优惠券？”\\n顾客答道：“是的，我有一张笑话券！”', generation_info={'finish_reason': 'stop', 'logprobs': None})]\n"
     ]
    }
   ],
   "source": [
    "# 可以进行批量生成，不过也是文字输入，文字输出\n",
    "llm_result = llm.generate([\"给我讲个笑话\",\"给我写首诗\"] * 2)\n",
    "print(len(llm_result.generations))\n",
    "print(llm_result.generations[0])"
   ],
   "metadata": {
    "collapsed": false
   }
  },
  {
   "cell_type": "markdown",
   "source": [
    "## ChatModel\n",
    "ChatModel是LLM的一个变体。虽然ChatModel在内部使用LLM，但是对外的接口略有不同。它们不是暴露一个“文本输入，文本输出”的API，而是暴露一个以“聊天消息”为输入和输出的接口。"
   ],
   "metadata": {
    "collapsed": false
   }
  },
  {
   "cell_type": "code",
   "execution_count": 4,
   "outputs": [
    {
     "data": {
      "text/plain": "AIMessage(content='我喜欢编程。', additional_kwargs={}, example=False)"
     },
     "execution_count": 4,
     "metadata": {},
     "output_type": "execute_result"
    }
   ],
   "source": [
    "from langchain.chat_models import ChatOpenAI\n",
    "from langchain.schema import (\n",
    "    AIMessage,\n",
    "    HumanMessage,\n",
    "    SystemMessage\n",
    ")\n",
    "\n",
    "chat = ChatOpenAI()\n",
    "chat([HumanMessage(content=\"把下面的英文翻译为中文: I love programming.\")])"
   ],
   "metadata": {
    "collapsed": false
   }
  },
  {
   "cell_type": "code",
   "execution_count": 5,
   "outputs": [
    {
     "data": {
      "text/plain": "AIMessage(content='我热爱编程。', additional_kwargs={}, example=False)"
     },
     "execution_count": 5,
     "metadata": {},
     "output_type": "execute_result"
    }
   ],
   "source": [
    "messages = [\n",
    "    SystemMessage(content=\"你是一个AI助理可以把英文翻译为中文.\"),\n",
    "    HumanMessage(content=\"I love programming.\")\n",
    "]\n",
    "chat(messages)"
   ],
   "metadata": {
    "collapsed": false
   }
  }
 ],
 "metadata": {
  "kernelspec": {
   "display_name": "Python 3",
   "language": "python",
   "name": "python3"
  },
  "language_info": {
   "codemirror_mode": {
    "name": "ipython",
    "version": 2
   },
   "file_extension": ".py",
   "mimetype": "text/x-python",
   "name": "python",
   "nbconvert_exporter": "python",
   "pygments_lexer": "ipython2",
   "version": "2.7.6"
  }
 },
 "nbformat": 4,
 "nbformat_minor": 0
}
