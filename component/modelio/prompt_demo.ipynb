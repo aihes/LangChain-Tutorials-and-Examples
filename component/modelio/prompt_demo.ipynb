{
 "cells": [
  {
   "cell_type": "markdown",
   "source": [
    "## prompt template\n",
    "Prompt template是指一种重复生成Prompt的方式。从用户那里接收一组参数并生成最终的Prompt\n",
    "一般包含如下部分：\n",
    "- 对语言模型的指示，或者指令；\n",
    "- 一组示例，以帮助语言模型生成更好的响应，\n",
    "- 对模型提出的问题。"
   ],
   "metadata": {
    "collapsed": false
   }
  },
  {
   "cell_type": "code",
   "execution_count": 1,
   "outputs": [
    {
     "data": {
      "text/plain": "'你是一个新公司的命名咨询顾问.\\n为制作 五颜六色的袜子 的公司起一个好的名字?\\n'"
     },
     "execution_count": 1,
     "metadata": {},
     "output_type": "execute_result"
    }
   ],
   "source": [
    "from langchain import PromptTemplate\n",
    "\n",
    "\n",
    "template = \"\"\"\\\n",
    "你是一个新公司的命名咨询顾问.\n",
    "为制作 {product} 的公司起一个好的名字?\n",
    "\"\"\"\n",
    "\n",
    "prompt = PromptTemplate.from_template(template)\n",
    "prompt.format(product=\"五颜六色的袜子\")"
   ],
   "metadata": {
    "collapsed": false
   }
  },
  {
   "cell_type": "markdown",
   "source": [
    "## Example selectors\n",
    "如果你有一些示例，可以需要去使用一些示例加到Prompt中。"
   ],
   "metadata": {
    "collapsed": false
   }
  },
  {
   "cell_type": "code",
   "execution_count": 2,
   "outputs": [],
   "source": [
    "from langchain.prompts import PromptTemplate\n",
    "from langchain.prompts import FewShotPromptTemplate\n",
    "from langchain.prompts.example_selector import LengthBasedExampleSelector\n",
    "\n",
    "# 这里有很多关于创建反义词的示例。\n",
    "examples = [\n",
    "    {\"input\": \"happy\", \"output\": \"sad\"},\n",
    "    {\"input\": \"tall\", \"output\": \"short\"},\n",
    "    {\"input\": \"energetic\", \"output\": \"lethargic\"},\n",
    "    {\"input\": \"sunny\", \"output\": \"gloomy\"},\n",
    "    {\"input\": \"windy\", \"output\": \"calm\"},\n",
    "]\n",
    "\n",
    "example_prompt = PromptTemplate(\n",
    "    input_variables=[\"input\", \"output\"],\n",
    "    template=\"输入: {input}\\n输出: {output}\",\n",
    ")\n",
    "example_selector = LengthBasedExampleSelector(\n",
    "    # 这些是它可以选择的示例。\n",
    "    examples=examples,\n",
    "    # 这是用来格式化示例的PromptTemplate。\n",
    "    example_prompt=example_prompt,\n",
    "    # 这是格式化的示例应该的最大长度。\n",
    "    # 长度是通过下面的get_text_length函数来测量的。\n",
    "    max_length=25,\n",
    "    # 这是用来获取字符串长度的函数，用于确定要包含哪些示例。\n",
    "    # 它被注释掉了，因为如果没有指定，它会作为默认值提供。\n",
    "    # get_text_length: Callable[[str], int] = lambda x: len(re.split(\"\\n| \", x))\n",
    ")\n",
    "dynamic_prompt = FewShotPromptTemplate(\n",
    "    # 我们提供一个ExampleSelector，而不是示例。\n",
    "    example_selector=example_selector,\n",
    "    example_prompt=example_prompt,\n",
    "    prefix=\"给出每个输入的反义词\",\n",
    "    suffix=\"输入: {adjective}\\n输出:\",\n",
    "    input_variables=[\"adjective\"],\n",
    ")\n"
   ],
   "metadata": {
    "collapsed": false
   }
  },
  {
   "cell_type": "code",
   "execution_count": 4,
   "outputs": [
    {
     "name": "stdout",
     "output_type": "stream",
     "text": [
      "给出每个输入的反义词\n",
      "\n",
      "输入: happy\n",
      "输出: sad\n",
      "\n",
      "输入: tall\n",
      "输出: short\n",
      "\n",
      "输入: energetic\n",
      "输出: lethargic\n",
      "\n",
      "输入: sunny\n",
      "输出: gloomy\n",
      "\n",
      "输入: windy\n",
      "输出: calm\n",
      "\n",
      "输入: big\n",
      "输出:\n",
      "给出每个输入的反义词\n",
      "\n",
      "输入: happy\n",
      "输出: sad\n",
      "\n",
      "输入: big and huge and massive and large and gigantic and tall and much much much much much bigger than everything else\n",
      "输出:\n"
     ]
    }
   ],
   "source": [
    "print(dynamic_prompt.format(adjective=\"big\"))\n",
    "# An example with long input, so it selects only one example.\n",
    "long_string = \"big and huge and massive and large and gigantic and tall and much much much much much bigger than everything else\"\n",
    "print(dynamic_prompt.format(adjective=long_string))"
   ],
   "metadata": {
    "collapsed": false
   }
  }
 ],
 "metadata": {
  "kernelspec": {
   "display_name": "Python 3",
   "language": "python",
   "name": "python3"
  },
  "language_info": {
   "codemirror_mode": {
    "name": "ipython",
    "version": 2
   },
   "file_extension": ".py",
   "mimetype": "text/x-python",
   "name": "python",
   "nbconvert_exporter": "python",
   "pygments_lexer": "ipython2",
   "version": "2.7.6"
  }
 },
 "nbformat": 4,
 "nbformat_minor": 0
}
