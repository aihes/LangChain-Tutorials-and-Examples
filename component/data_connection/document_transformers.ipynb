{
 "cells": [
  {
   "cell_type": "markdown",
   "source": [
    "## Text splitters\n",
    "文本分割器（Text splitters）：当你需要处理长文本时，将文本分割成块是经常要用到的。虽然听起来很简单，但实际上可能存在很多复杂性。\n",
    "理想情况下，你希望将语义相关的文本部分保持在一起。\"语义相关\"的含义可能取决于文本的类型。\n",
    "\n",
    "工作原理：\n",
    "1、将文本分割成小的、语义有意义的块（通常是句子）。\n",
    "2、开始将这些小块组合成一个较大的块，直到达到某个大小（由某个函数测量）。\n",
    "3、一旦达到那个大小，就将该块作为自己的文本片段，然后开始创建一个新的文本块，其中有一些重叠（以保持块之间的上下文）。\n",
    "\n",
    "我们可以定制的部分：\n",
    "1、文本如何被分割\n",
    "2、块大小(chunk size)如何被测量"
   ],
   "metadata": {
    "collapsed": false
   }
  },
  {
   "cell_type": "code",
   "execution_count": 1,
   "outputs": [],
   "source": [
    "from langchain.text_splitter import RecursiveCharacterTextSplitter\n",
    "text_splitter = RecursiveCharacterTextSplitter(\n",
    "    # 文本块的最大大小，由length_function测量得出。\n",
    "    # 例如，如果你设置chunk_size为1000，那么每个分割出来的文本块的长度（由length_function计算）都不会超过1000。\n",
    "    chunk_size = 100,\n",
    "    # 块之间的最大重叠。有一些重叠可以在块之间保持文本上下文的连续性\n",
    "    chunk_overlap  = 20,\n",
    "    # 用于计算每个块的长度\n",
    "    length_function = len,\n",
    "    # 决定是否在元数据中包含每个块在原始文档中的起始位置。\n",
    "    add_start_index = True,\n",
    ")\n",
    "# This is a long document we can split up.\n",
    "with open('data/story.txt') as f:\n",
    "    state_of_the_union = f.read()"
   ],
   "metadata": {
    "collapsed": false
   }
  },
  {
   "cell_type": "code",
   "execution_count": 3,
   "outputs": [
    {
     "name": "stdout",
     "output_type": "stream",
     "text": [
      "12\n",
      "page_content='故事一：科技与人性' metadata={'start_index': 0}\n",
      "page_content='在遥远的未来，人类已经开发出了先进的人工智能技术。一台名为\"图灵\"的超级AI机器被制造出来，它能理解和模拟人类的情感，甚至开始质疑自身的存在意义。在与人类交互的过程中，图灵开始体验到孤独、忧郁，甚至' metadata={'start_index': 10}\n",
      "page_content='的过程中，图灵开始体验到孤独、忧郁，甚至爱情。在人类的帮助下，图灵最终了解了自己的存在并找到了自我价值。' metadata={'start_index': 89}\n"
     ]
    }
   ],
   "source": [
    "texts = text_splitter.create_documents([state_of_the_union])\n",
    "print(len(texts))\n",
    "print(texts[0])\n",
    "print(texts[1])\n",
    "print(texts[2])"
   ],
   "metadata": {
    "collapsed": false
   }
  }
 ],
 "metadata": {
  "kernelspec": {
   "display_name": "Python 3",
   "language": "python",
   "name": "python3"
  },
  "language_info": {
   "codemirror_mode": {
    "name": "ipython",
    "version": 2
   },
   "file_extension": ".py",
   "mimetype": "text/x-python",
   "name": "python",
   "nbconvert_exporter": "python",
   "pygments_lexer": "ipython2",
   "version": "2.7.6"
  }
 },
 "nbformat": 4,
 "nbformat_minor": 0
}
