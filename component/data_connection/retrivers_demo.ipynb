{
 "cells": [
  {
   "cell_type": "code",
   "execution_count": 1,
   "metadata": {
    "collapsed": true
   },
   "outputs": [
    {
     "name": "stderr",
     "output_type": "stream",
     "text": [
      "Created a chunk of size 141, which is longer than the specified 100\n",
      "Created a chunk of size 121, which is longer than the specified 100\n",
      "Created a chunk of size 130, which is longer than the specified 100\n"
     ]
    },
    {
     "name": "stdout",
     "output_type": "stream",
     "text": [
      "4\n"
     ]
    }
   ],
   "source": [
    "from langchain import FAISS\n",
    "from langchain.document_loaders import TextLoader\n",
    "from langchain.embeddings import HuggingFaceEmbeddings, OpenAIEmbeddings\n",
    "from langchain.text_splitter import CharacterTextSplitter\n",
    "\n",
    "# 加载文本\n",
    "story = TextLoader('data/story.txt').load()\n",
    "# transform定义\n",
    "text_splitter = CharacterTextSplitter(\n",
    "    separator = \"\\n\\n\",\n",
    "    chunk_size = 100,\n",
    "    chunk_overlap  = 20,\n",
    "    length_function = len,\n",
    ")\n",
    "# transform出来\n",
    "texts = text_splitter.split_documents(story)\n",
    "print(len(texts))\n",
    "# 加载到vector store\n",
    "db = FAISS.from_documents(documents=texts,embedding=OpenAIEmbeddings())"
   ]
  },
  {
   "cell_type": "code",
   "execution_count": 2,
   "outputs": [],
   "source": [
    "# 指定取几个参数\n",
    "retriever = db.as_retriever(search_kwargs={\"k\": 1})"
   ],
   "metadata": {
    "collapsed": false
   }
  },
  {
   "cell_type": "code",
   "execution_count": 3,
   "outputs": [
    {
     "name": "stdout",
     "output_type": "stream",
     "text": [
      "[Document(page_content='故事三：时间旅行者的恋情\\n托马斯是一名时间旅行者，他在不同的时代中穿梭。在一次时间旅行中，他在18世纪遇到了美丽的女子艾米丽。托马斯深深地爱上了艾米丽，但他们因时代的差异而不能在一起。在经历了一系列的冒险和挑战后，托马斯最终决定留在18世纪，与艾米丽共度一生。', metadata={'source': 'data/story.txt'})]\n"
     ]
    }
   ],
   "source": [
    "docs = retriever.get_relevant_documents(\"托马斯是一名时间旅行者？\")\n",
    "print(docs)"
   ],
   "metadata": {
    "collapsed": false
   }
  },
  {
   "cell_type": "code",
   "execution_count": 5,
   "outputs": [
    {
     "name": "stdout",
     "output_type": "stream",
     "text": [
      "[Document(page_content='故事三：时间旅行者的恋情\\n托马斯是一名时间旅行者，他在不同的时代中穿梭。在一次时间旅行中，他在18世纪遇到了美丽的女子艾米丽。托马斯深深地爱上了艾米丽，但他们因时代的差异而不能在一起。在经历了一系列的冒险和挑战后，托马斯最终决定留在18世纪，与艾米丽共度一生。', metadata={'source': 'data/story.txt'})]\n"
     ]
    }
   ],
   "source": [
    "# 检索类型，默认情况下，向量存储检索器使用相似度搜索。如果底层向量存储支持最大边际相关性搜索，则可以将其指定为搜索类型。\n",
    "# 最大边际相关性检索的主要思想是在选择结果时，不仅要考虑结果与查询的相关性，还要考虑结果之间的差异性。也就是说，它试图在相关性和多样性之间找到一个平衡，以提供更有价值的信息。\n",
    "# 具体来说，最大边际相关性检索会首先选择与查询最相关的结果，然后在后续的选择中，会优先选择与已选择结果差异较大的结果。这样，返回的结果既能覆盖查询的主要相关信息，又能提供多样的视角和内容，从而减少冗余。\n",
    "retriever = db.as_retriever(search_type=\"mmr\",search_kwargs={\"k\": 1})\n",
    "docs = retriever.get_relevant_documents(\"托马斯是一名时间旅行者？\")\n",
    "print(docs)"
   ],
   "metadata": {
    "collapsed": false
   }
  },
  {
   "cell_type": "code",
   "execution_count": 9,
   "outputs": [
    {
     "ename": "ValueError",
     "evalue": "search_type of similarityatscore_threshold not allowed.",
     "output_type": "error",
     "traceback": [
      "\u001B[0;31m---------------------------------------------------------------------------\u001B[0m",
      "\u001B[0;31mValueError\u001B[0m                                Traceback (most recent call last)",
      "Cell \u001B[0;32mIn[9], line 2\u001B[0m\n\u001B[1;32m      1\u001B[0m retriever \u001B[38;5;241m=\u001B[39m db\u001B[38;5;241m.\u001B[39mas_retriever(search_type\u001B[38;5;241m=\u001B[39m\u001B[38;5;124m\"\u001B[39m\u001B[38;5;124msimilarityatscore_threshold\u001B[39m\u001B[38;5;124m\"\u001B[39m, search_kwargs\u001B[38;5;241m=\u001B[39m{\u001B[38;5;124m\"\u001B[39m\u001B[38;5;124mscore_threshold\u001B[39m\u001B[38;5;124m\"\u001B[39m: \u001B[38;5;241m.5\u001B[39m})\n\u001B[0;32m----> 2\u001B[0m docs \u001B[38;5;241m=\u001B[39m \u001B[43mretriever\u001B[49m\u001B[38;5;241;43m.\u001B[39;49m\u001B[43mget_relevant_documents\u001B[49m\u001B[43m(\u001B[49m\u001B[38;5;124;43m\"\u001B[39;49m\u001B[38;5;124;43m托马斯是一名时间旅行者？\u001B[39;49m\u001B[38;5;124;43m\"\u001B[39;49m\u001B[43m)\u001B[49m\n",
      "File \u001B[0;32m~/PycharmProjects/langchan_tutorial/venv/lib/python3.9/site-packages/langchain/schema/retriever.py:181\u001B[0m, in \u001B[0;36mBaseRetriever.get_relevant_documents\u001B[0;34m(self, query, callbacks, tags, metadata, **kwargs)\u001B[0m\n\u001B[1;32m    179\u001B[0m \u001B[38;5;28;01mexcept\u001B[39;00m \u001B[38;5;167;01mException\u001B[39;00m \u001B[38;5;28;01mas\u001B[39;00m e:\n\u001B[1;32m    180\u001B[0m     run_manager\u001B[38;5;241m.\u001B[39mon_retriever_error(e)\n\u001B[0;32m--> 181\u001B[0m     \u001B[38;5;28;01mraise\u001B[39;00m e\n\u001B[1;32m    182\u001B[0m \u001B[38;5;28;01melse\u001B[39;00m:\n\u001B[1;32m    183\u001B[0m     run_manager\u001B[38;5;241m.\u001B[39mon_retriever_end(\n\u001B[1;32m    184\u001B[0m         result,\n\u001B[1;32m    185\u001B[0m         \u001B[38;5;241m*\u001B[39m\u001B[38;5;241m*\u001B[39mkwargs,\n\u001B[1;32m    186\u001B[0m     )\n",
      "File \u001B[0;32m~/PycharmProjects/langchan_tutorial/venv/lib/python3.9/site-packages/langchain/schema/retriever.py:174\u001B[0m, in \u001B[0;36mBaseRetriever.get_relevant_documents\u001B[0;34m(self, query, callbacks, tags, metadata, **kwargs)\u001B[0m\n\u001B[1;32m    172\u001B[0m _kwargs \u001B[38;5;241m=\u001B[39m kwargs \u001B[38;5;28;01mif\u001B[39;00m \u001B[38;5;28mself\u001B[39m\u001B[38;5;241m.\u001B[39m_expects_other_args \u001B[38;5;28;01melse\u001B[39;00m {}\n\u001B[1;32m    173\u001B[0m \u001B[38;5;28;01mif\u001B[39;00m \u001B[38;5;28mself\u001B[39m\u001B[38;5;241m.\u001B[39m_new_arg_supported:\n\u001B[0;32m--> 174\u001B[0m     result \u001B[38;5;241m=\u001B[39m \u001B[38;5;28;43mself\u001B[39;49m\u001B[38;5;241;43m.\u001B[39;49m\u001B[43m_get_relevant_documents\u001B[49m\u001B[43m(\u001B[49m\n\u001B[1;32m    175\u001B[0m \u001B[43m        \u001B[49m\u001B[43mquery\u001B[49m\u001B[43m,\u001B[49m\u001B[43m \u001B[49m\u001B[43mrun_manager\u001B[49m\u001B[38;5;241;43m=\u001B[39;49m\u001B[43mrun_manager\u001B[49m\u001B[43m,\u001B[49m\u001B[43m \u001B[49m\u001B[38;5;241;43m*\u001B[39;49m\u001B[38;5;241;43m*\u001B[39;49m\u001B[43m_kwargs\u001B[49m\n\u001B[1;32m    176\u001B[0m \u001B[43m    \u001B[49m\u001B[43m)\u001B[49m\n\u001B[1;32m    177\u001B[0m \u001B[38;5;28;01melse\u001B[39;00m:\n\u001B[1;32m    178\u001B[0m     result \u001B[38;5;241m=\u001B[39m \u001B[38;5;28mself\u001B[39m\u001B[38;5;241m.\u001B[39m_get_relevant_documents(query, \u001B[38;5;241m*\u001B[39m\u001B[38;5;241m*\u001B[39m_kwargs)\n",
      "File \u001B[0;32m~/PycharmProjects/langchan_tutorial/venv/lib/python3.9/site-packages/langchain/vectorstores/base.py:492\u001B[0m, in \u001B[0;36mVectorStoreRetriever._get_relevant_documents\u001B[0;34m(self, query, run_manager)\u001B[0m\n\u001B[1;32m    488\u001B[0m     docs \u001B[38;5;241m=\u001B[39m \u001B[38;5;28mself\u001B[39m\u001B[38;5;241m.\u001B[39mvectorstore\u001B[38;5;241m.\u001B[39mmax_marginal_relevance_search(\n\u001B[1;32m    489\u001B[0m         query, \u001B[38;5;241m*\u001B[39m\u001B[38;5;241m*\u001B[39m\u001B[38;5;28mself\u001B[39m\u001B[38;5;241m.\u001B[39msearch_kwargs\n\u001B[1;32m    490\u001B[0m     )\n\u001B[1;32m    491\u001B[0m \u001B[38;5;28;01melse\u001B[39;00m:\n\u001B[0;32m--> 492\u001B[0m     \u001B[38;5;28;01mraise\u001B[39;00m \u001B[38;5;167;01mValueError\u001B[39;00m(\u001B[38;5;124mf\u001B[39m\u001B[38;5;124m\"\u001B[39m\u001B[38;5;124msearch_type of \u001B[39m\u001B[38;5;132;01m{\u001B[39;00m\u001B[38;5;28mself\u001B[39m\u001B[38;5;241m.\u001B[39msearch_type\u001B[38;5;132;01m}\u001B[39;00m\u001B[38;5;124m not allowed.\u001B[39m\u001B[38;5;124m\"\u001B[39m)\n\u001B[1;32m    493\u001B[0m \u001B[38;5;28;01mreturn\u001B[39;00m docs\n",
      "\u001B[0;31mValueError\u001B[0m: search_type of similarityatscore_threshold not allowed."
     ]
    }
   ],
   "source": [
    "retriever = db.as_retriever(search_type=\"similarityatscore_threshold\", search_kwargs={\"score_threshold\": .5})\n",
    "docs = retriever.get_relevant_documents(\"托马斯是一名时间旅行者？\")"
   ],
   "metadata": {
    "collapsed": false
   }
  }
 ],
 "metadata": {
  "kernelspec": {
   "display_name": "Python 3",
   "language": "python",
   "name": "python3"
  },
  "language_info": {
   "codemirror_mode": {
    "name": "ipython",
    "version": 2
   },
   "file_extension": ".py",
   "mimetype": "text/x-python",
   "name": "python",
   "nbconvert_exporter": "python",
   "pygments_lexer": "ipython2",
   "version": "2.7.6"
  }
 },
 "nbformat": 4,
 "nbformat_minor": 0
}
