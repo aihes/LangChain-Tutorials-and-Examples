{
 "cells": [
  {
   "cell_type": "code",
   "execution_count": 5,
   "metadata": {
    "collapsed": true
   },
   "outputs": [
    {
     "name": "stdout",
     "output_type": "stream",
     "text": [
      "\n",
      "\n",
      "\u001B[1m> Entering new LLMRequestsChain chain...\u001B[0m\n",
      "\n",
      "\u001B[1m> Finished chain.\u001B[0m\n",
      "jsoup is a Java library for working with HTML. It allows you to scrape and parse HTML from a URL, file, or string, and extract and manipulate data using DOM traversal or CSS selectors. It implements the WHATWG HTML5 specification and can deal with all varieties of HTML, from pristine to invalid tag-soup. jsoup can also be used to clean user-submitted content against a safelist to prevent XSS attacks. It is an open source project distributed under the MIT license and is available for download at GitHub.\n"
     ]
    }
   ],
   "source": [
    "from langchain.llms import Tongyi\n",
    "from langchain.chains import LLMRequestsChain\n",
    "from langchain import PromptTemplate, OpenAI\n",
    "from langchain.chains import LLMChain\n",
    "\n",
    "template = \"\"\"\\\n",
    "帮我总结如下的内容：\n",
    "{requests_result}\n",
    "\"\"\"\n",
    "\n",
    "prompt = PromptTemplate.from_template(template)\n",
    "# prompt.format(product=\"五颜六色的袜子\")\n",
    "llm = Tongyi()\n",
    "\n",
    "# Chain可以把llm和Prompt组合在一起\n",
    "llm_chain = LLMChain(llm=llm, prompt=prompt)\n",
    "request_chain = LLMRequestsChain(llm_chain=llm_chain, verbose=True)\n",
    "print(request_chain.run(\"https://jsoup.org/\"))\n"
   ]
  }
 ],
 "metadata": {
  "kernelspec": {
   "display_name": "Python 3",
   "language": "python",
   "name": "python3"
  },
  "language_info": {
   "codemirror_mode": {
    "name": "ipython",
    "version": 2
   },
   "file_extension": ".py",
   "mimetype": "text/x-python",
   "name": "python",
   "nbconvert_exporter": "python",
   "pygments_lexer": "ipython2",
   "version": "2.7.6"
  }
 },
 "nbformat": 4,
 "nbformat_minor": 0
}
